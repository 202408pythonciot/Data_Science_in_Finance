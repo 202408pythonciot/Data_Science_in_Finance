{
  "nbformat": 4,
  "nbformat_minor": 0,
  "metadata": {
    "colab": {
      "provenance": []
    },
    "kernelspec": {
      "name": "python3",
      "display_name": "Python 3"
    },
    "language_info": {
      "name": "python"
    }
  },
  "cells": [
    {
      "cell_type": "markdown",
      "source": [
        "# yfinanceによる株価履歴の取得\n",
        "\n",
        "yfinanceは，アメリカのYahoo Finance で公開されている金融データをpython上で取得できるライブラリです。取得したデータはpandasのDataFrame形式になります。\n",
        "\n",
        "\n",
        "---\n",
        "[Google Colaboratoryで開く](https://colab.research.google.com/github/202408pythonciot/Data_Science_in_Finance/blob/main/Colaboratory/Base/get_history_data_yfinance.ipynb)\n",
        "\n",
        "<a target=\"_blank\" href=\"https://colab.research.google.com/github/202408pythonciot/Data_Science_in_Finance/blob/main/Colaboratory/Base/get_history_data_yfinance.ipynb\">\n",
        "  <img src=\"https://colab.research.google.com/assets/colab-badge.svg\" alt=\"Open In Colab\"/>\n",
        "</a>\n",
        "\n",
        "---"
      ],
      "metadata": {
        "id": "aKd6_cazS4i8"
      }
    },
    {
      "cell_type": "markdown",
      "source": [
        "## 1. 事前準備"
      ],
      "metadata": {
        "id": "N_NALw46TA0g"
      }
    },
    {
      "cell_type": "markdown",
      "source": [
        "### matplotlibの日本語化のためのライブラリをインストール"
      ],
      "metadata": {
        "id": "CS9B9UbNmhJI"
      }
    },
    {
      "cell_type": "code",
      "execution_count": 1,
      "metadata": {
        "colab": {
          "base_uri": "https://localhost:8080/"
        },
        "id": "gvgshKs8SyOw",
        "outputId": "02e33745-bc8b-4247-b16e-5639041882d9"
      },
      "outputs": [
        {
          "output_type": "stream",
          "name": "stdout",
          "text": [
            "Collecting japanize-matplotlib\n",
            "  Downloading japanize-matplotlib-1.1.3.tar.gz (4.1 MB)\n",
            "\u001b[2K     \u001b[90m━━━━━━━━━━━━━━━━━━━━━━━━━━━━━━━━━━━━━━━━\u001b[0m \u001b[32m4.1/4.1 MB\u001b[0m \u001b[31m23.5 MB/s\u001b[0m eta \u001b[36m0:00:00\u001b[0m\n",
            "\u001b[?25h  Preparing metadata (setup.py) ... \u001b[?25l\u001b[?25hdone\n",
            "Requirement already satisfied: matplotlib in /usr/local/lib/python3.10/dist-packages (from japanize-matplotlib) (3.8.0)\n",
            "Requirement already satisfied: contourpy>=1.0.1 in /usr/local/lib/python3.10/dist-packages (from matplotlib->japanize-matplotlib) (1.3.0)\n",
            "Requirement already satisfied: cycler>=0.10 in /usr/local/lib/python3.10/dist-packages (from matplotlib->japanize-matplotlib) (0.12.1)\n",
            "Requirement already satisfied: fonttools>=4.22.0 in /usr/local/lib/python3.10/dist-packages (from matplotlib->japanize-matplotlib) (4.54.1)\n",
            "Requirement already satisfied: kiwisolver>=1.0.1 in /usr/local/lib/python3.10/dist-packages (from matplotlib->japanize-matplotlib) (1.4.7)\n",
            "Requirement already satisfied: numpy<2,>=1.21 in /usr/local/lib/python3.10/dist-packages (from matplotlib->japanize-matplotlib) (1.26.4)\n",
            "Requirement already satisfied: packaging>=20.0 in /usr/local/lib/python3.10/dist-packages (from matplotlib->japanize-matplotlib) (24.2)\n",
            "Requirement already satisfied: pillow>=6.2.0 in /usr/local/lib/python3.10/dist-packages (from matplotlib->japanize-matplotlib) (11.0.0)\n",
            "Requirement already satisfied: pyparsing>=2.3.1 in /usr/local/lib/python3.10/dist-packages (from matplotlib->japanize-matplotlib) (3.2.0)\n",
            "Requirement already satisfied: python-dateutil>=2.7 in /usr/local/lib/python3.10/dist-packages (from matplotlib->japanize-matplotlib) (2.8.2)\n",
            "Requirement already satisfied: six>=1.5 in /usr/local/lib/python3.10/dist-packages (from python-dateutil>=2.7->matplotlib->japanize-matplotlib) (1.16.0)\n",
            "Building wheels for collected packages: japanize-matplotlib\n",
            "  Building wheel for japanize-matplotlib (setup.py) ... \u001b[?25l\u001b[?25hdone\n",
            "  Created wheel for japanize-matplotlib: filename=japanize_matplotlib-1.1.3-py3-none-any.whl size=4120257 sha256=eeccdc05f69956e4baff10cb9bb891de784bec945e24d28715db4efdacff8581\n",
            "  Stored in directory: /root/.cache/pip/wheels/61/7a/6b/df1f79be9c59862525070e157e62b08eab8ece27c1b68fbb94\n",
            "Successfully built japanize-matplotlib\n",
            "Installing collected packages: japanize-matplotlib\n",
            "Successfully installed japanize-matplotlib-1.1.3\n"
          ]
        }
      ],
      "source": [
        "!pip install japanize-matplotlib"
      ]
    },
    {
      "cell_type": "markdown",
      "source": [
        "### yfinanceをインポート"
      ],
      "metadata": {
        "id": "qz4wm7n6ml5H"
      }
    },
    {
      "cell_type": "code",
      "source": [
        "import yfinance as yf"
      ],
      "metadata": {
        "id": "G_WPsyb-TQfH"
      },
      "execution_count": 2,
      "outputs": []
    },
    {
      "cell_type": "markdown",
      "source": [
        "### データ分析：pandasをインポート"
      ],
      "metadata": {
        "id": "tx0_7j8vmoNA"
      }
    },
    {
      "cell_type": "code",
      "execution_count": 3,
      "metadata": {
        "id": "KZ8_Zbr0PbYf"
      },
      "outputs": [],
      "source": [
        "import pandas as pd"
      ]
    },
    {
      "cell_type": "markdown",
      "source": [
        "### グラフ描画：matplotlib（日本語表示対応 japanize_matplotlibも）をインポート"
      ],
      "metadata": {
        "id": "nGBmLuBYmtBP"
      }
    },
    {
      "cell_type": "code",
      "source": [
        "import matplotlib.pyplot as plt\n",
        "import japanize_matplotlib"
      ],
      "metadata": {
        "id": "W9ri85pfxIHE"
      },
      "execution_count": 4,
      "outputs": []
    },
    {
      "cell_type": "markdown",
      "source": [
        "### 日付計算：datetimeをインポート"
      ],
      "metadata": {
        "id": "yd4IQXtnm3jn"
      }
    },
    {
      "cell_type": "code",
      "source": [
        "import datetime as dt"
      ],
      "metadata": {
        "id": "gUuBfHyWBOPG"
      },
      "execution_count": 5,
      "outputs": []
    },
    {
      "cell_type": "markdown",
      "source": [
        "## 2. データを取得"
      ],
      "metadata": {
        "id": "1TaFrhbzAhm3"
      }
    },
    {
      "cell_type": "markdown",
      "source": [
        "### 取得期間の計算\n",
        "datetimeモジュールを使って，今日から180日前の日付を求め，それぞれsdayとedayの変数に代入します。"
      ],
      "metadata": {
        "id": "7WeDMA4bm6cX"
      }
    },
    {
      "cell_type": "code",
      "source": [
        "sday = dt.datetime.today() - dt.timedelta(days=180) # 180日前の日付を計算\n",
        "eday = dt.datetime.today()\n",
        "sday, eday"
      ],
      "metadata": {
        "colab": {
          "base_uri": "https://localhost:8080/"
        },
        "id": "zFBa3prDB7kE",
        "outputId": "45bd19c8-f8c3-4d70-e527-d9297d487eb9"
      },
      "execution_count": 6,
      "outputs": [
        {
          "output_type": "execute_result",
          "data": {
            "text/plain": [
              "(datetime.datetime(2024, 5, 18, 4, 38, 34, 948382),\n",
              " datetime.datetime(2024, 11, 14, 4, 38, 34, 948478))"
            ]
          },
          "metadata": {},
          "execution_count": 6
        }
      ]
    },
    {
      "cell_type": "markdown",
      "source": [
        "### データの取得\n",
        "ファーストリテーリングの証券コード(9983)を使って，yfinanceから今日から180日前までの期間の株価履歴を取得します。"
      ],
      "metadata": {
        "id": "qD5AqYNPnKTG"
      }
    },
    {
      "cell_type": "code",
      "source": [
        "ticker = \"9983.T\"\n",
        "df = yf.download(ticker, start=sday , end=eday)\n",
        "\n",
        "df"
      ],
      "metadata": {
        "colab": {
          "base_uri": "https://localhost:8080/",
          "height": 504
        },
        "id": "qqYXw6B_BQGl",
        "outputId": "9ded57e5-1223-4a13-cfcd-41bad5e9876d"
      },
      "execution_count": 7,
      "outputs": [
        {
          "output_type": "stream",
          "name": "stderr",
          "text": [
            "\r[*********************100%***********************]  1 of 1 completed\n"
          ]
        },
        {
          "output_type": "execute_result",
          "data": {
            "text/plain": [
              "Price                         Adj Close    Close     High      Low     Open  \\\n",
              "Ticker                           9983.T   9983.T   9983.T   9983.T   9983.T   \n",
              "Date                                                                          \n",
              "2024-05-20 00:00:00+00:00  41158.570312  41360.0  41880.0  40840.0  41030.0   \n",
              "2024-05-21 00:00:00+00:00  41248.132812  41450.0  41870.0  41410.0  41770.0   \n",
              "2024-05-22 00:00:00+00:00  40481.882812  40680.0  41120.0  40550.0  41120.0   \n",
              "2024-05-23 00:00:00+00:00  40919.742188  41120.0  41140.0  40640.0  40720.0   \n",
              "2024-05-24 00:00:00+00:00  40113.687500  40310.0  40470.0  39860.0  40160.0   \n",
              "...                                 ...      ...      ...      ...      ...   \n",
              "2024-11-07 00:00:00+00:00  48690.000000  48690.0  50830.0  48420.0  50720.0   \n",
              "2024-11-08 00:00:00+00:00  49250.000000  49250.0  49490.0  48940.0  49390.0   \n",
              "2024-11-11 00:00:00+00:00  49480.000000  49480.0  49500.0  48690.0  49050.0   \n",
              "2024-11-12 00:00:00+00:00  49880.000000  49880.0  50540.0  49310.0  50180.0   \n",
              "2024-11-13 00:00:00+00:00  48900.000000  48900.0  49600.0  48660.0  49530.0   \n",
              "\n",
              "Price                       Volume  \n",
              "Ticker                      9983.T  \n",
              "Date                                \n",
              "2024-05-20 00:00:00+00:00  1148000  \n",
              "2024-05-21 00:00:00+00:00   613400  \n",
              "2024-05-22 00:00:00+00:00   969500  \n",
              "2024-05-23 00:00:00+00:00   782000  \n",
              "2024-05-24 00:00:00+00:00  1166600  \n",
              "...                            ...  \n",
              "2024-11-07 00:00:00+00:00  1784300  \n",
              "2024-11-08 00:00:00+00:00  1328200  \n",
              "2024-11-11 00:00:00+00:00   710600  \n",
              "2024-11-12 00:00:00+00:00  1211800  \n",
              "2024-11-13 00:00:00+00:00   983100  \n",
              "\n",
              "[122 rows x 6 columns]"
            ],
            "text/html": [
              "\n",
              "  <div id=\"df-6689d11d-c4ab-49b9-9f3d-3e078bd52f8f\" class=\"colab-df-container\">\n",
              "    <div>\n",
              "<style scoped>\n",
              "    .dataframe tbody tr th:only-of-type {\n",
              "        vertical-align: middle;\n",
              "    }\n",
              "\n",
              "    .dataframe tbody tr th {\n",
              "        vertical-align: top;\n",
              "    }\n",
              "\n",
              "    .dataframe thead tr th {\n",
              "        text-align: left;\n",
              "    }\n",
              "\n",
              "    .dataframe thead tr:last-of-type th {\n",
              "        text-align: right;\n",
              "    }\n",
              "</style>\n",
              "<table border=\"1\" class=\"dataframe\">\n",
              "  <thead>\n",
              "    <tr>\n",
              "      <th>Price</th>\n",
              "      <th>Adj Close</th>\n",
              "      <th>Close</th>\n",
              "      <th>High</th>\n",
              "      <th>Low</th>\n",
              "      <th>Open</th>\n",
              "      <th>Volume</th>\n",
              "    </tr>\n",
              "    <tr>\n",
              "      <th>Ticker</th>\n",
              "      <th>9983.T</th>\n",
              "      <th>9983.T</th>\n",
              "      <th>9983.T</th>\n",
              "      <th>9983.T</th>\n",
              "      <th>9983.T</th>\n",
              "      <th>9983.T</th>\n",
              "    </tr>\n",
              "    <tr>\n",
              "      <th>Date</th>\n",
              "      <th></th>\n",
              "      <th></th>\n",
              "      <th></th>\n",
              "      <th></th>\n",
              "      <th></th>\n",
              "      <th></th>\n",
              "    </tr>\n",
              "  </thead>\n",
              "  <tbody>\n",
              "    <tr>\n",
              "      <th>2024-05-20 00:00:00+00:00</th>\n",
              "      <td>41158.570312</td>\n",
              "      <td>41360.0</td>\n",
              "      <td>41880.0</td>\n",
              "      <td>40840.0</td>\n",
              "      <td>41030.0</td>\n",
              "      <td>1148000</td>\n",
              "    </tr>\n",
              "    <tr>\n",
              "      <th>2024-05-21 00:00:00+00:00</th>\n",
              "      <td>41248.132812</td>\n",
              "      <td>41450.0</td>\n",
              "      <td>41870.0</td>\n",
              "      <td>41410.0</td>\n",
              "      <td>41770.0</td>\n",
              "      <td>613400</td>\n",
              "    </tr>\n",
              "    <tr>\n",
              "      <th>2024-05-22 00:00:00+00:00</th>\n",
              "      <td>40481.882812</td>\n",
              "      <td>40680.0</td>\n",
              "      <td>41120.0</td>\n",
              "      <td>40550.0</td>\n",
              "      <td>41120.0</td>\n",
              "      <td>969500</td>\n",
              "    </tr>\n",
              "    <tr>\n",
              "      <th>2024-05-23 00:00:00+00:00</th>\n",
              "      <td>40919.742188</td>\n",
              "      <td>41120.0</td>\n",
              "      <td>41140.0</td>\n",
              "      <td>40640.0</td>\n",
              "      <td>40720.0</td>\n",
              "      <td>782000</td>\n",
              "    </tr>\n",
              "    <tr>\n",
              "      <th>2024-05-24 00:00:00+00:00</th>\n",
              "      <td>40113.687500</td>\n",
              "      <td>40310.0</td>\n",
              "      <td>40470.0</td>\n",
              "      <td>39860.0</td>\n",
              "      <td>40160.0</td>\n",
              "      <td>1166600</td>\n",
              "    </tr>\n",
              "    <tr>\n",
              "      <th>...</th>\n",
              "      <td>...</td>\n",
              "      <td>...</td>\n",
              "      <td>...</td>\n",
              "      <td>...</td>\n",
              "      <td>...</td>\n",
              "      <td>...</td>\n",
              "    </tr>\n",
              "    <tr>\n",
              "      <th>2024-11-07 00:00:00+00:00</th>\n",
              "      <td>48690.000000</td>\n",
              "      <td>48690.0</td>\n",
              "      <td>50830.0</td>\n",
              "      <td>48420.0</td>\n",
              "      <td>50720.0</td>\n",
              "      <td>1784300</td>\n",
              "    </tr>\n",
              "    <tr>\n",
              "      <th>2024-11-08 00:00:00+00:00</th>\n",
              "      <td>49250.000000</td>\n",
              "      <td>49250.0</td>\n",
              "      <td>49490.0</td>\n",
              "      <td>48940.0</td>\n",
              "      <td>49390.0</td>\n",
              "      <td>1328200</td>\n",
              "    </tr>\n",
              "    <tr>\n",
              "      <th>2024-11-11 00:00:00+00:00</th>\n",
              "      <td>49480.000000</td>\n",
              "      <td>49480.0</td>\n",
              "      <td>49500.0</td>\n",
              "      <td>48690.0</td>\n",
              "      <td>49050.0</td>\n",
              "      <td>710600</td>\n",
              "    </tr>\n",
              "    <tr>\n",
              "      <th>2024-11-12 00:00:00+00:00</th>\n",
              "      <td>49880.000000</td>\n",
              "      <td>49880.0</td>\n",
              "      <td>50540.0</td>\n",
              "      <td>49310.0</td>\n",
              "      <td>50180.0</td>\n",
              "      <td>1211800</td>\n",
              "    </tr>\n",
              "    <tr>\n",
              "      <th>2024-11-13 00:00:00+00:00</th>\n",
              "      <td>48900.000000</td>\n",
              "      <td>48900.0</td>\n",
              "      <td>49600.0</td>\n",
              "      <td>48660.0</td>\n",
              "      <td>49530.0</td>\n",
              "      <td>983100</td>\n",
              "    </tr>\n",
              "  </tbody>\n",
              "</table>\n",
              "<p>122 rows × 6 columns</p>\n",
              "</div>\n",
              "    <div class=\"colab-df-buttons\">\n",
              "\n",
              "  <div class=\"colab-df-container\">\n",
              "    <button class=\"colab-df-convert\" onclick=\"convertToInteractive('df-6689d11d-c4ab-49b9-9f3d-3e078bd52f8f')\"\n",
              "            title=\"Convert this dataframe to an interactive table.\"\n",
              "            style=\"display:none;\">\n",
              "\n",
              "  <svg xmlns=\"http://www.w3.org/2000/svg\" height=\"24px\" viewBox=\"0 -960 960 960\">\n",
              "    <path d=\"M120-120v-720h720v720H120Zm60-500h600v-160H180v160Zm220 220h160v-160H400v160Zm0 220h160v-160H400v160ZM180-400h160v-160H180v160Zm440 0h160v-160H620v160ZM180-180h160v-160H180v160Zm440 0h160v-160H620v160Z\"/>\n",
              "  </svg>\n",
              "    </button>\n",
              "\n",
              "  <style>\n",
              "    .colab-df-container {\n",
              "      display:flex;\n",
              "      gap: 12px;\n",
              "    }\n",
              "\n",
              "    .colab-df-convert {\n",
              "      background-color: #E8F0FE;\n",
              "      border: none;\n",
              "      border-radius: 50%;\n",
              "      cursor: pointer;\n",
              "      display: none;\n",
              "      fill: #1967D2;\n",
              "      height: 32px;\n",
              "      padding: 0 0 0 0;\n",
              "      width: 32px;\n",
              "    }\n",
              "\n",
              "    .colab-df-convert:hover {\n",
              "      background-color: #E2EBFA;\n",
              "      box-shadow: 0px 1px 2px rgba(60, 64, 67, 0.3), 0px 1px 3px 1px rgba(60, 64, 67, 0.15);\n",
              "      fill: #174EA6;\n",
              "    }\n",
              "\n",
              "    .colab-df-buttons div {\n",
              "      margin-bottom: 4px;\n",
              "    }\n",
              "\n",
              "    [theme=dark] .colab-df-convert {\n",
              "      background-color: #3B4455;\n",
              "      fill: #D2E3FC;\n",
              "    }\n",
              "\n",
              "    [theme=dark] .colab-df-convert:hover {\n",
              "      background-color: #434B5C;\n",
              "      box-shadow: 0px 1px 3px 1px rgba(0, 0, 0, 0.15);\n",
              "      filter: drop-shadow(0px 1px 2px rgba(0, 0, 0, 0.3));\n",
              "      fill: #FFFFFF;\n",
              "    }\n",
              "  </style>\n",
              "\n",
              "    <script>\n",
              "      const buttonEl =\n",
              "        document.querySelector('#df-6689d11d-c4ab-49b9-9f3d-3e078bd52f8f button.colab-df-convert');\n",
              "      buttonEl.style.display =\n",
              "        google.colab.kernel.accessAllowed ? 'block' : 'none';\n",
              "\n",
              "      async function convertToInteractive(key) {\n",
              "        const element = document.querySelector('#df-6689d11d-c4ab-49b9-9f3d-3e078bd52f8f');\n",
              "        const dataTable =\n",
              "          await google.colab.kernel.invokeFunction('convertToInteractive',\n",
              "                                                    [key], {});\n",
              "        if (!dataTable) return;\n",
              "\n",
              "        const docLinkHtml = 'Like what you see? Visit the ' +\n",
              "          '<a target=\"_blank\" href=https://colab.research.google.com/notebooks/data_table.ipynb>data table notebook</a>'\n",
              "          + ' to learn more about interactive tables.';\n",
              "        element.innerHTML = '';\n",
              "        dataTable['output_type'] = 'display_data';\n",
              "        await google.colab.output.renderOutput(dataTable, element);\n",
              "        const docLink = document.createElement('div');\n",
              "        docLink.innerHTML = docLinkHtml;\n",
              "        element.appendChild(docLink);\n",
              "      }\n",
              "    </script>\n",
              "  </div>\n",
              "\n",
              "\n",
              "<div id=\"df-3a6a7090-c35f-422d-879b-a3a1d8ff0f00\">\n",
              "  <button class=\"colab-df-quickchart\" onclick=\"quickchart('df-3a6a7090-c35f-422d-879b-a3a1d8ff0f00')\"\n",
              "            title=\"Suggest charts\"\n",
              "            style=\"display:none;\">\n",
              "\n",
              "<svg xmlns=\"http://www.w3.org/2000/svg\" height=\"24px\"viewBox=\"0 0 24 24\"\n",
              "     width=\"24px\">\n",
              "    <g>\n",
              "        <path d=\"M19 3H5c-1.1 0-2 .9-2 2v14c0 1.1.9 2 2 2h14c1.1 0 2-.9 2-2V5c0-1.1-.9-2-2-2zM9 17H7v-7h2v7zm4 0h-2V7h2v10zm4 0h-2v-4h2v4z\"/>\n",
              "    </g>\n",
              "</svg>\n",
              "  </button>\n",
              "\n",
              "<style>\n",
              "  .colab-df-quickchart {\n",
              "      --bg-color: #E8F0FE;\n",
              "      --fill-color: #1967D2;\n",
              "      --hover-bg-color: #E2EBFA;\n",
              "      --hover-fill-color: #174EA6;\n",
              "      --disabled-fill-color: #AAA;\n",
              "      --disabled-bg-color: #DDD;\n",
              "  }\n",
              "\n",
              "  [theme=dark] .colab-df-quickchart {\n",
              "      --bg-color: #3B4455;\n",
              "      --fill-color: #D2E3FC;\n",
              "      --hover-bg-color: #434B5C;\n",
              "      --hover-fill-color: #FFFFFF;\n",
              "      --disabled-bg-color: #3B4455;\n",
              "      --disabled-fill-color: #666;\n",
              "  }\n",
              "\n",
              "  .colab-df-quickchart {\n",
              "    background-color: var(--bg-color);\n",
              "    border: none;\n",
              "    border-radius: 50%;\n",
              "    cursor: pointer;\n",
              "    display: none;\n",
              "    fill: var(--fill-color);\n",
              "    height: 32px;\n",
              "    padding: 0;\n",
              "    width: 32px;\n",
              "  }\n",
              "\n",
              "  .colab-df-quickchart:hover {\n",
              "    background-color: var(--hover-bg-color);\n",
              "    box-shadow: 0 1px 2px rgba(60, 64, 67, 0.3), 0 1px 3px 1px rgba(60, 64, 67, 0.15);\n",
              "    fill: var(--button-hover-fill-color);\n",
              "  }\n",
              "\n",
              "  .colab-df-quickchart-complete:disabled,\n",
              "  .colab-df-quickchart-complete:disabled:hover {\n",
              "    background-color: var(--disabled-bg-color);\n",
              "    fill: var(--disabled-fill-color);\n",
              "    box-shadow: none;\n",
              "  }\n",
              "\n",
              "  .colab-df-spinner {\n",
              "    border: 2px solid var(--fill-color);\n",
              "    border-color: transparent;\n",
              "    border-bottom-color: var(--fill-color);\n",
              "    animation:\n",
              "      spin 1s steps(1) infinite;\n",
              "  }\n",
              "\n",
              "  @keyframes spin {\n",
              "    0% {\n",
              "      border-color: transparent;\n",
              "      border-bottom-color: var(--fill-color);\n",
              "      border-left-color: var(--fill-color);\n",
              "    }\n",
              "    20% {\n",
              "      border-color: transparent;\n",
              "      border-left-color: var(--fill-color);\n",
              "      border-top-color: var(--fill-color);\n",
              "    }\n",
              "    30% {\n",
              "      border-color: transparent;\n",
              "      border-left-color: var(--fill-color);\n",
              "      border-top-color: var(--fill-color);\n",
              "      border-right-color: var(--fill-color);\n",
              "    }\n",
              "    40% {\n",
              "      border-color: transparent;\n",
              "      border-right-color: var(--fill-color);\n",
              "      border-top-color: var(--fill-color);\n",
              "    }\n",
              "    60% {\n",
              "      border-color: transparent;\n",
              "      border-right-color: var(--fill-color);\n",
              "    }\n",
              "    80% {\n",
              "      border-color: transparent;\n",
              "      border-right-color: var(--fill-color);\n",
              "      border-bottom-color: var(--fill-color);\n",
              "    }\n",
              "    90% {\n",
              "      border-color: transparent;\n",
              "      border-bottom-color: var(--fill-color);\n",
              "    }\n",
              "  }\n",
              "</style>\n",
              "\n",
              "  <script>\n",
              "    async function quickchart(key) {\n",
              "      const quickchartButtonEl =\n",
              "        document.querySelector('#' + key + ' button');\n",
              "      quickchartButtonEl.disabled = true;  // To prevent multiple clicks.\n",
              "      quickchartButtonEl.classList.add('colab-df-spinner');\n",
              "      try {\n",
              "        const charts = await google.colab.kernel.invokeFunction(\n",
              "            'suggestCharts', [key], {});\n",
              "      } catch (error) {\n",
              "        console.error('Error during call to suggestCharts:', error);\n",
              "      }\n",
              "      quickchartButtonEl.classList.remove('colab-df-spinner');\n",
              "      quickchartButtonEl.classList.add('colab-df-quickchart-complete');\n",
              "    }\n",
              "    (() => {\n",
              "      let quickchartButtonEl =\n",
              "        document.querySelector('#df-3a6a7090-c35f-422d-879b-a3a1d8ff0f00 button');\n",
              "      quickchartButtonEl.style.display =\n",
              "        google.colab.kernel.accessAllowed ? 'block' : 'none';\n",
              "    })();\n",
              "  </script>\n",
              "</div>\n",
              "\n",
              "  <div id=\"id_740c20ec-ae8a-491f-a3cc-9352bc8a5ec8\">\n",
              "    <style>\n",
              "      .colab-df-generate {\n",
              "        background-color: #E8F0FE;\n",
              "        border: none;\n",
              "        border-radius: 50%;\n",
              "        cursor: pointer;\n",
              "        display: none;\n",
              "        fill: #1967D2;\n",
              "        height: 32px;\n",
              "        padding: 0 0 0 0;\n",
              "        width: 32px;\n",
              "      }\n",
              "\n",
              "      .colab-df-generate:hover {\n",
              "        background-color: #E2EBFA;\n",
              "        box-shadow: 0px 1px 2px rgba(60, 64, 67, 0.3), 0px 1px 3px 1px rgba(60, 64, 67, 0.15);\n",
              "        fill: #174EA6;\n",
              "      }\n",
              "\n",
              "      [theme=dark] .colab-df-generate {\n",
              "        background-color: #3B4455;\n",
              "        fill: #D2E3FC;\n",
              "      }\n",
              "\n",
              "      [theme=dark] .colab-df-generate:hover {\n",
              "        background-color: #434B5C;\n",
              "        box-shadow: 0px 1px 3px 1px rgba(0, 0, 0, 0.15);\n",
              "        filter: drop-shadow(0px 1px 2px rgba(0, 0, 0, 0.3));\n",
              "        fill: #FFFFFF;\n",
              "      }\n",
              "    </style>\n",
              "    <button class=\"colab-df-generate\" onclick=\"generateWithVariable('df')\"\n",
              "            title=\"Generate code using this dataframe.\"\n",
              "            style=\"display:none;\">\n",
              "\n",
              "  <svg xmlns=\"http://www.w3.org/2000/svg\" height=\"24px\"viewBox=\"0 0 24 24\"\n",
              "       width=\"24px\">\n",
              "    <path d=\"M7,19H8.4L18.45,9,17,7.55,7,17.6ZM5,21V16.75L18.45,3.32a2,2,0,0,1,2.83,0l1.4,1.43a1.91,1.91,0,0,1,.58,1.4,1.91,1.91,0,0,1-.58,1.4L9.25,21ZM18.45,9,17,7.55Zm-12,3A5.31,5.31,0,0,0,4.9,8.1,5.31,5.31,0,0,0,1,6.5,5.31,5.31,0,0,0,4.9,4.9,5.31,5.31,0,0,0,6.5,1,5.31,5.31,0,0,0,8.1,4.9,5.31,5.31,0,0,0,12,6.5,5.46,5.46,0,0,0,6.5,12Z\"/>\n",
              "  </svg>\n",
              "    </button>\n",
              "    <script>\n",
              "      (() => {\n",
              "      const buttonEl =\n",
              "        document.querySelector('#id_740c20ec-ae8a-491f-a3cc-9352bc8a5ec8 button.colab-df-generate');\n",
              "      buttonEl.style.display =\n",
              "        google.colab.kernel.accessAllowed ? 'block' : 'none';\n",
              "\n",
              "      buttonEl.onclick = () => {\n",
              "        google.colab.notebook.generateWithVariable('df');\n",
              "      }\n",
              "      })();\n",
              "    </script>\n",
              "  </div>\n",
              "\n",
              "    </div>\n",
              "  </div>\n"
            ],
            "application/vnd.google.colaboratory.intrinsic+json": {
              "type": "dataframe",
              "variable_name": "df",
              "summary": "{\n  \"name\": \"df\",\n  \"rows\": 122,\n  \"fields\": [\n    {\n      \"column\": [\n        \"Date\",\n        \"\"\n      ],\n      \"properties\": {\n        \"dtype\": \"date\",\n        \"min\": \"2024-05-20 00:00:00+00:00\",\n        \"max\": \"2024-11-13 00:00:00+00:00\",\n        \"num_unique_values\": 122,\n        \"samples\": [\n          \"2024-06-13 00:00:00+00:00\",\n          \"2024-07-23 00:00:00+00:00\",\n          \"2024-07-25 00:00:00+00:00\"\n        ],\n        \"semantic_type\": \"\",\n        \"description\": \"\"\n      }\n    },\n    {\n      \"column\": [\n        \"Adj Close\",\n        \"9983.T\"\n      ],\n      \"properties\": {\n        \"dtype\": \"number\",\n        \"std\": 4298.317732557432,\n        \"min\": 36292.38671875,\n        \"max\": 54490.0,\n        \"num_unique_values\": 119,\n        \"samples\": [\n          39446.94921875,\n          48710.0,\n          40113.6875\n        ],\n        \"semantic_type\": \"\",\n        \"description\": \"\"\n      }\n    },\n    {\n      \"column\": [\n        \"Close\",\n        \"9983.T\"\n      ],\n      \"properties\": {\n        \"dtype\": \"number\",\n        \"std\": 4217.040193167141,\n        \"min\": 36470.0,\n        \"max\": 54490.0,\n        \"num_unique_values\": 119,\n        \"samples\": [\n          39640.0,\n          48710.0,\n          40310.0\n        ],\n        \"semantic_type\": \"\",\n        \"description\": \"\"\n      }\n    },\n    {\n      \"column\": [\n        \"High\",\n        \"9983.T\"\n      ],\n      \"properties\": {\n        \"dtype\": \"number\",\n        \"std\": 4283.651402740168,\n        \"min\": 39660.0,\n        \"max\": 55310.0,\n        \"num_unique_values\": 114,\n        \"samples\": [\n          47970.0,\n          40470.0,\n          42790.0\n        ],\n        \"semantic_type\": \"\",\n        \"description\": \"\"\n      }\n    },\n    {\n      \"column\": [\n        \"Low\",\n        \"9983.T\"\n      ],\n      \"properties\": {\n        \"dtype\": \"number\",\n        \"std\": 4231.787608681607,\n        \"min\": 35140.0,\n        \"max\": 53520.0,\n        \"num_unique_values\": 116,\n        \"samples\": [\n          47750.0,\n          39860.0,\n          41530.0\n        ],\n        \"semantic_type\": \"\",\n        \"description\": \"\"\n      }\n    },\n    {\n      \"column\": [\n        \"Open\",\n        \"9983.T\"\n      ],\n      \"properties\": {\n        \"dtype\": \"number\",\n        \"std\": 4296.2888275830455,\n        \"min\": 37220.0,\n        \"max\": 55300.0,\n        \"num_unique_values\": 115,\n        \"samples\": [\n          47640.0,\n          40160.0,\n          41600.0\n        ],\n        \"semantic_type\": \"\",\n        \"description\": \"\"\n      }\n    },\n    {\n      \"column\": [\n        \"Volume\",\n        \"9983.T\"\n      ],\n      \"properties\": {\n        \"dtype\": \"number\",\n        \"std\": 819688,\n        \"min\": 613400,\n        \"max\": 6729400,\n        \"num_unique_values\": 121,\n        \"samples\": [\n          903700,\n          1590600,\n          1166600\n        ],\n        \"semantic_type\": \"\",\n        \"description\": \"\"\n      }\n    }\n  ]\n}"
            }
          },
          "metadata": {},
          "execution_count": 7
        }
      ]
    },
    {
      "cell_type": "markdown",
      "source": [
        "yfinanceはpandasのデータフレーム形式でデータを渡してくれます。株価履歴の各列（カラム）の意味は以下の通りです。\n",
        "\n",
        "|  | Open | High | Low | Close | Adj Close | Volume |\n",
        "| --- | --- | --- | --- | --- | --- | --- |\n",
        "| 日付 | 始値 | 高値 | 安値 | 終値 | 調整後終値 | 出来高 |\n"
      ],
      "metadata": {
        "id": "Vnx4mchxChDi"
      }
    },
    {
      "cell_type": "markdown",
      "source": [
        "matplotlibを使って株価を折れ線グラフで表示します。"
      ],
      "metadata": {
        "id": "uCHl4gvzFd-k"
      }
    },
    {
      "cell_type": "code",
      "source": [
        "plt.plot(df.index, df['Adj Close'], c=\"b\")\n",
        "plt.title(\"ファーストリテーリング\", fontsize=14)\n",
        "plt.show()"
      ],
      "metadata": {
        "colab": {
          "base_uri": "https://localhost:8080/",
          "height": 451
        },
        "id": "eyJRodu5DPlh",
        "outputId": "b9cfd911-77ca-416b-921a-04c16f2e3aef"
      },
      "execution_count": 8,
      "outputs": [
        {
          "output_type": "display_data",
          "data": {
            "text/plain": [
              "<Figure size 640x480 with 1 Axes>"
            ],
            "image/png": "[encoded data removed]"
          },
          "metadata": {}
        }
      ]
    }
  ]
}