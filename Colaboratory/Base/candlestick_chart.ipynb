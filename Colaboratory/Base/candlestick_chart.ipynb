{
  "nbformat": 4,
  "nbformat_minor": 0,
  "metadata": {
    "colab": {
      "provenance": []
    },
    "kernelspec": {
      "name": "python3",
      "display_name": "Python 3"
    },
    "language_info": {
      "name": "python"
    }
  },
  "cells": [
    {
      "cell_type": "markdown",
      "source": [
        "# ローソクチャートの表示\n",
        "\n",
        "ローソクチャートをmatplotlibで表示するためには、細かいパラメータの設定が必要になります。これらを設定済みのライブラリである\"mplfinance\"を使う例を紹介します。\n",
        "\n",
        "---\n",
        "[Google Colaboratoryで開く](https://colab.research.google.com/github/202408pythonciot/Data_Science_in_Finance/blob/main/Colaboratory/Base/candlestick_chart.ipynb)\n",
        "\n",
        "<a target=\"_blank\" href=\"https://colab.research.google.com/github/202408pythonciot/Data_Science_in_Finance/blob/main/Colaboratory/Base/candlestick_chart.ipynb\">\n",
        "  <img src=\"https://colab.research.google.com/assets/colab-badge.svg\" alt=\"Open In Colab\"/>\n",
        "</a>\n",
        "\n",
        "---"
      ],
      "metadata": {
        "id": "dTJee8SvVnrT"
      }
    },
    {
      "cell_type": "markdown",
      "source": [
        "## 1. 事前準備"
      ],
      "metadata": {
        "id": "N_NALw46TA0g"
      }
    },
    {
      "cell_type": "markdown",
      "source": [
        "### mplfinanceのインストール\n",
        "Colaboratoryでは標準として入っていないため，pipを使ってmplfinanceをインストールします。"
      ],
      "metadata": {
        "id": "CY4crCCIWSwA"
      }
    },
    {
      "cell_type": "code",
      "execution_count": 1,
      "metadata": {
        "colab": {
          "base_uri": "https://localhost:8080/"
        },
        "id": "QhG_rySVOp96",
        "outputId": "58ac2caf-8e6e-4f04-d96a-ffd86b568140"
      },
      "outputs": [
        {
          "output_type": "stream",
          "name": "stdout",
          "text": [
            "Collecting mplfinance\n",
            "  Downloading mplfinance-0.12.10b0-py3-none-any.whl.metadata (19 kB)\n",
            "Requirement already satisfied: matplotlib in /usr/local/lib/python3.10/dist-packages (from mplfinance) (3.8.0)\n",
            "Requirement already satisfied: pandas in /usr/local/lib/python3.10/dist-packages (from mplfinance) (2.2.2)\n",
            "Requirement already satisfied: contourpy>=1.0.1 in /usr/local/lib/python3.10/dist-packages (from matplotlib->mplfinance) (1.3.0)\n",
            "Requirement already satisfied: cycler>=0.10 in /usr/local/lib/python3.10/dist-packages (from matplotlib->mplfinance) (0.12.1)\n",
            "Requirement already satisfied: fonttools>=4.22.0 in /usr/local/lib/python3.10/dist-packages (from matplotlib->mplfinance) (4.54.1)\n",
            "Requirement already satisfied: kiwisolver>=1.0.1 in /usr/local/lib/python3.10/dist-packages (from matplotlib->mplfinance) (1.4.7)\n",
            "Requirement already satisfied: numpy<2,>=1.21 in /usr/local/lib/python3.10/dist-packages (from matplotlib->mplfinance) (1.26.4)\n",
            "Requirement already satisfied: packaging>=20.0 in /usr/local/lib/python3.10/dist-packages (from matplotlib->mplfinance) (24.2)\n",
            "Requirement already satisfied: pillow>=6.2.0 in /usr/local/lib/python3.10/dist-packages (from matplotlib->mplfinance) (11.0.0)\n",
            "Requirement already satisfied: pyparsing>=2.3.1 in /usr/local/lib/python3.10/dist-packages (from matplotlib->mplfinance) (3.2.0)\n",
            "Requirement already satisfied: python-dateutil>=2.7 in /usr/local/lib/python3.10/dist-packages (from matplotlib->mplfinance) (2.8.2)\n",
            "Requirement already satisfied: pytz>=2020.1 in /usr/local/lib/python3.10/dist-packages (from pandas->mplfinance) (2024.2)\n",
            "Requirement already satisfied: tzdata>=2022.7 in /usr/local/lib/python3.10/dist-packages (from pandas->mplfinance) (2024.2)\n",
            "Requirement already satisfied: six>=1.5 in /usr/local/lib/python3.10/dist-packages (from python-dateutil>=2.7->matplotlib->mplfinance) (1.16.0)\n",
            "Downloading mplfinance-0.12.10b0-py3-none-any.whl (75 kB)\n",
            "\u001b[2K   \u001b[90m━━━━━━━━━━━━━━━━━━━━━━━━━━━━━━━━━━━━━━━━\u001b[0m \u001b[32m75.0/75.0 kB\u001b[0m \u001b[31m1.3 MB/s\u001b[0m eta \u001b[36m0:00:00\u001b[0m\n",
            "\u001b[?25hInstalling collected packages: mplfinance\n",
            "Successfully installed mplfinance-0.12.10b0\n"
          ]
        }
      ],
      "source": [
        "!pip install mplfinance"
      ]
    },
    {
      "cell_type": "markdown",
      "source": [
        "### 必要ライブラリのインポート\n",
        "\n",
        "ローソクチャートを描画するためのmatplotlib，mplfinanceをインポートします。"
      ],
      "metadata": {
        "id": "wuJ1VL-UodQs"
      }
    },
    {
      "cell_type": "code",
      "source": [
        "import matplotlib.pyplot as plt\n",
        "import mplfinance as mpf # 金融データ表示拡張\n"
      ],
      "metadata": {
        "id": "S59Vc-QoW80u"
      },
      "execution_count": 2,
      "outputs": []
    },
    {
      "cell_type": "markdown",
      "source": [
        "matplotlibの日本語表示対応のため`japanize-matplotlib`をインストールします。"
      ],
      "metadata": {
        "id": "esQhCzrm9H0T"
      }
    },
    {
      "cell_type": "code",
      "source": [
        "!pip install japanize-matplotlib\n",
        "import matplotlib.pyplot as plt\n",
        "import japanize_matplotlib"
      ],
      "metadata": {
        "colab": {
          "base_uri": "https://localhost:8080/"
        },
        "id": "n-ffjtzE8f_l",
        "outputId": "a24812b4-05d7-450a-d609-03675362a546"
      },
      "execution_count": 10,
      "outputs": [
        {
          "output_type": "stream",
          "name": "stdout",
          "text": [
            "Collecting japanize-matplotlib\n",
            "  Downloading japanize-matplotlib-1.1.3.tar.gz (4.1 MB)\n",
            "\u001b[?25l     \u001b[90m━━━━━━━━━━━━━━━━━━━━━━━━━━━━━━━━━━━━━━━━\u001b[0m \u001b[32m0.0/4.1 MB\u001b[0m \u001b[31m?\u001b[0m eta \u001b[36m-:--:--\u001b[0m\r\u001b[2K     \u001b[91m━\u001b[0m\u001b[90m╺\u001b[0m\u001b[90m━━━━━━━━━━━━━━━━━━━━━━━━━━━━━━━━━━━━━━\u001b[0m \u001b[32m0.1/4.1 MB\u001b[0m \u001b[31m3.4 MB/s\u001b[0m eta \u001b[36m0:00:02\u001b[0m\r\u001b[2K     \u001b[91m━━━━\u001b[0m\u001b[90m╺\u001b[0m\u001b[90m━━━━━━━━━━━━━━━━━━━━━━━━━━━━━━━━━━━\u001b[0m \u001b[32m0.5/4.1 MB\u001b[0m \u001b[31m7.0 MB/s\u001b[0m eta \u001b[36m0:00:01\u001b[0m\r\u001b[2K     \u001b[91m━━━━━━━━━━━━━━━━━━━━━━\u001b[0m\u001b[90m╺\u001b[0m\u001b[90m━━━━━━━━━━━━━━━━━\u001b[0m \u001b[32m2.3/4.1 MB\u001b[0m \u001b[31m21.8 MB/s\u001b[0m eta \u001b[36m0:00:01\u001b[0m\r\u001b[2K     \u001b[91m━━━━━━━━━━━━━━━━━━━━━━━━━━━━━━━━━━━━━━━\u001b[0m\u001b[91m╸\u001b[0m \u001b[32m4.1/4.1 MB\u001b[0m \u001b[31m34.5 MB/s\u001b[0m eta \u001b[36m0:00:01\u001b[0m\r\u001b[2K     \u001b[90m━━━━━━━━━━━━━━━━━━━━━━━━━━━━━━━━━━━━━━━━\u001b[0m \u001b[32m4.1/4.1 MB\u001b[0m \u001b[31m28.7 MB/s\u001b[0m eta \u001b[36m0:00:00\u001b[0m\n",
            "\u001b[?25h  Preparing metadata (setup.py) ... \u001b[?25l\u001b[?25hdone\n",
            "Requirement already satisfied: matplotlib in /usr/local/lib/python3.10/dist-packages (from japanize-matplotlib) (3.8.0)\n",
            "Requirement already satisfied: contourpy>=1.0.1 in /usr/local/lib/python3.10/dist-packages (from matplotlib->japanize-matplotlib) (1.3.0)\n",
            "Requirement already satisfied: cycler>=0.10 in /usr/local/lib/python3.10/dist-packages (from matplotlib->japanize-matplotlib) (0.12.1)\n",
            "Requirement already satisfied: fonttools>=4.22.0 in /usr/local/lib/python3.10/dist-packages (from matplotlib->japanize-matplotlib) (4.54.1)\n",
            "Requirement already satisfied: kiwisolver>=1.0.1 in /usr/local/lib/python3.10/dist-packages (from matplotlib->japanize-matplotlib) (1.4.7)\n",
            "Requirement already satisfied: numpy<2,>=1.21 in /usr/local/lib/python3.10/dist-packages (from matplotlib->japanize-matplotlib) (1.26.4)\n",
            "Requirement already satisfied: packaging>=20.0 in /usr/local/lib/python3.10/dist-packages (from matplotlib->japanize-matplotlib) (24.2)\n",
            "Requirement already satisfied: pillow>=6.2.0 in /usr/local/lib/python3.10/dist-packages (from matplotlib->japanize-matplotlib) (11.0.0)\n",
            "Requirement already satisfied: pyparsing>=2.3.1 in /usr/local/lib/python3.10/dist-packages (from matplotlib->japanize-matplotlib) (3.2.0)\n",
            "Requirement already satisfied: python-dateutil>=2.7 in /usr/local/lib/python3.10/dist-packages (from matplotlib->japanize-matplotlib) (2.8.2)\n",
            "Requirement already satisfied: six>=1.5 in /usr/local/lib/python3.10/dist-packages (from python-dateutil>=2.7->matplotlib->japanize-matplotlib) (1.16.0)\n",
            "Building wheels for collected packages: japanize-matplotlib\n",
            "  Building wheel for japanize-matplotlib (setup.py) ... \u001b[?25l\u001b[?25hdone\n",
            "  Created wheel for japanize-matplotlib: filename=japanize_matplotlib-1.1.3-py3-none-any.whl size=4120257 sha256=f8571fe6042c566678e881927630900d93fcf4c29ea250b9a2da01641425a6e7\n",
            "  Stored in directory: /root/.cache/pip/wheels/61/7a/6b/df1f79be9c59862525070e157e62b08eab8ece27c1b68fbb94\n",
            "Successfully built japanize-matplotlib\n",
            "Installing collected packages: japanize-matplotlib\n",
            "Successfully installed japanize-matplotlib-1.1.3\n"
          ]
        }
      ]
    },
    {
      "cell_type": "markdown",
      "source": [
        "株価履歴を取得するためにyfinanceと日付計算のためにdatetimeをインポートします。"
      ],
      "metadata": {
        "id": "iEqaQiuOovd6"
      }
    },
    {
      "cell_type": "code",
      "source": [
        "import datetime as dt\n",
        "import yfinance as yf\n"
      ],
      "metadata": {
        "id": "lfyAm0IRZjTY"
      },
      "execution_count": 3,
      "outputs": []
    },
    {
      "cell_type": "markdown",
      "source": [
        "## 2. データを取得"
      ],
      "metadata": {
        "id": "SNZoODxNmDZ5"
      }
    },
    {
      "cell_type": "markdown",
      "source": [
        "### 取得期間の計算\n",
        "datetimeモジュールを使って，今日から180日前の日付を求め，それぞれsdayとedayの変数に代入します。"
      ],
      "metadata": {
        "id": "7WeDMA4bm6cX"
      }
    },
    {
      "cell_type": "code",
      "source": [
        "sday = dt.datetime.today() - dt.timedelta(days=180) # 180日前の日付を計算\n",
        "eday = dt.datetime.today()\n",
        "sday, eday"
      ],
      "metadata": {
        "colab": {
          "base_uri": "https://localhost:8080/"
        },
        "id": "zFBa3prDB7kE",
        "outputId": "e686f903-8431-4622-e2d8-fdbe7e8ca6db"
      },
      "execution_count": 4,
      "outputs": [
        {
          "output_type": "execute_result",
          "data": {
            "text/plain": [
              "(datetime.datetime(2024, 5, 18, 4, 30, 12, 491049),\n",
              " datetime.datetime(2024, 11, 14, 4, 30, 12, 491222))"
            ]
          },
          "metadata": {},
          "execution_count": 4
        }
      ]
    },
    {
      "cell_type": "markdown",
      "source": [
        "### データの取得\n",
        "ファーストリテーリングの証券コード(9983)を使って，yfinanceから今日から180日前までの期間の株価履歴を取得します。"
      ],
      "metadata": {
        "id": "qD5AqYNPnKTG"
      }
    },
    {
      "cell_type": "code",
      "source": [
        "ticker = \"9983.T\"\n",
        "df = yf.download(ticker, start=sday , end=eday)\n",
        "# カラムを修正 10月末からこれをやらないとローソクチャートでエラー表示\n",
        "df.columns = ['Date', 'Open', 'High', 'Low', 'Close', 'Volume']\n",
        "df"
      ],
      "metadata": {
        "colab": {
          "base_uri": "https://localhost:8080/",
          "height": 473
        },
        "id": "qqYXw6B_BQGl",
        "outputId": "6a4f7836-9472-4b76-d5a3-87645fad4288"
      },
      "execution_count": 5,
      "outputs": [
        {
          "output_type": "stream",
          "name": "stderr",
          "text": [
            "\r[*********************100%***********************]  1 of 1 completed\n"
          ]
        },
        {
          "output_type": "execute_result",
          "data": {
            "text/plain": [
              "                                   Date     Open     High      Low    Close  \\\n",
              "Date                                                                          \n",
              "2024-05-20 00:00:00+00:00  41158.570312  41360.0  41880.0  40840.0  41030.0   \n",
              "2024-05-21 00:00:00+00:00  41248.132812  41450.0  41870.0  41410.0  41770.0   \n",
              "2024-05-22 00:00:00+00:00  40481.882812  40680.0  41120.0  40550.0  41120.0   \n",
              "2024-05-23 00:00:00+00:00  40919.742188  41120.0  41140.0  40640.0  40720.0   \n",
              "2024-05-24 00:00:00+00:00  40113.687500  40310.0  40470.0  39860.0  40160.0   \n",
              "...                                 ...      ...      ...      ...      ...   \n",
              "2024-11-07 00:00:00+00:00  48690.000000  48690.0  50830.0  48420.0  50720.0   \n",
              "2024-11-08 00:00:00+00:00  49250.000000  49250.0  49490.0  48940.0  49390.0   \n",
              "2024-11-11 00:00:00+00:00  49480.000000  49480.0  49500.0  48690.0  49050.0   \n",
              "2024-11-12 00:00:00+00:00  49880.000000  49880.0  50540.0  49310.0  50180.0   \n",
              "2024-11-13 00:00:00+00:00  48900.000000  48900.0  49600.0  48660.0  49530.0   \n",
              "\n",
              "                            Volume  \n",
              "Date                                \n",
              "2024-05-20 00:00:00+00:00  1148000  \n",
              "2024-05-21 00:00:00+00:00   613400  \n",
              "2024-05-22 00:00:00+00:00   969500  \n",
              "2024-05-23 00:00:00+00:00   782000  \n",
              "2024-05-24 00:00:00+00:00  1166600  \n",
              "...                            ...  \n",
              "2024-11-07 00:00:00+00:00  1784300  \n",
              "2024-11-08 00:00:00+00:00  1328200  \n",
              "2024-11-11 00:00:00+00:00   710600  \n",
              "2024-11-12 00:00:00+00:00  1211800  \n",
              "2024-11-13 00:00:00+00:00   983100  \n",
              "\n",
              "[122 rows x 6 columns]"
            ],
            "text/html": [
              "\n",
              "  <div id=\"df-d72dedf3-6a4e-4620-b11d-5bb41de8c990\" class=\"colab-df-container\">\n",
              "    <div>\n",
              "<style scoped>\n",
              "    .dataframe tbody tr th:only-of-type {\n",
              "        vertical-align: middle;\n",
              "    }\n",
              "\n",
              "    .dataframe tbody tr th {\n",
              "        vertical-align: top;\n",
              "    }\n",
              "\n",
              "    .dataframe thead th {\n",
              "        text-align: right;\n",
              "    }\n",
              "</style>\n",
              "<table border=\"1\" class=\"dataframe\">\n",
              "  <thead>\n",
              "    <tr style=\"text-align: right;\">\n",
              "      <th></th>\n",
              "      <th>Date</th>\n",
              "      <th>Open</th>\n",
              "      <th>High</th>\n",
              "      <th>Low</th>\n",
              "      <th>Close</th>\n",
              "      <th>Volume</th>\n",
              "    </tr>\n",
              "    <tr>\n",
              "      <th>Date</th>\n",
              "      <th></th>\n",
              "      <th></th>\n",
              "      <th></th>\n",
              "      <th></th>\n",
              "      <th></th>\n",
              "      <th></th>\n",
              "    </tr>\n",
              "  </thead>\n",
              "  <tbody>\n",
              "    <tr>\n",
              "      <th>2024-05-20 00:00:00+00:00</th>\n",
              "      <td>41158.570312</td>\n",
              "      <td>41360.0</td>\n",
              "      <td>41880.0</td>\n",
              "      <td>40840.0</td>\n",
              "      <td>41030.0</td>\n",
              "      <td>1148000</td>\n",
              "    </tr>\n",
              "    <tr>\n",
              "      <th>2024-05-21 00:00:00+00:00</th>\n",
              "      <td>41248.132812</td>\n",
              "      <td>41450.0</td>\n",
              "      <td>41870.0</td>\n",
              "      <td>41410.0</td>\n",
              "      <td>41770.0</td>\n",
              "      <td>613400</td>\n",
              "    </tr>\n",
              "    <tr>\n",
              "      <th>2024-05-22 00:00:00+00:00</th>\n",
              "      <td>40481.882812</td>\n",
              "      <td>40680.0</td>\n",
              "      <td>41120.0</td>\n",
              "      <td>40550.0</td>\n",
              "      <td>41120.0</td>\n",
              "      <td>969500</td>\n",
              "    </tr>\n",
              "    <tr>\n",
              "      <th>2024-05-23 00:00:00+00:00</th>\n",
              "      <td>40919.742188</td>\n",
              "      <td>41120.0</td>\n",
              "      <td>41140.0</td>\n",
              "      <td>40640.0</td>\n",
              "      <td>40720.0</td>\n",
              "      <td>782000</td>\n",
              "    </tr>\n",
              "    <tr>\n",
              "      <th>2024-05-24 00:00:00+00:00</th>\n",
              "      <td>40113.687500</td>\n",
              "      <td>40310.0</td>\n",
              "      <td>40470.0</td>\n",
              "      <td>39860.0</td>\n",
              "      <td>40160.0</td>\n",
              "      <td>1166600</td>\n",
              "    </tr>\n",
              "    <tr>\n",
              "      <th>...</th>\n",
              "      <td>...</td>\n",
              "      <td>...</td>\n",
              "      <td>...</td>\n",
              "      <td>...</td>\n",
              "      <td>...</td>\n",
              "      <td>...</td>\n",
              "    </tr>\n",
              "    <tr>\n",
              "      <th>2024-11-07 00:00:00+00:00</th>\n",
              "      <td>48690.000000</td>\n",
              "      <td>48690.0</td>\n",
              "      <td>50830.0</td>\n",
              "      <td>48420.0</td>\n",
              "      <td>50720.0</td>\n",
              "      <td>1784300</td>\n",
              "    </tr>\n",
              "    <tr>\n",
              "      <th>2024-11-08 00:00:00+00:00</th>\n",
              "      <td>49250.000000</td>\n",
              "      <td>49250.0</td>\n",
              "      <td>49490.0</td>\n",
              "      <td>48940.0</td>\n",
              "      <td>49390.0</td>\n",
              "      <td>1328200</td>\n",
              "    </tr>\n",
              "    <tr>\n",
              "      <th>2024-11-11 00:00:00+00:00</th>\n",
              "      <td>49480.000000</td>\n",
              "      <td>49480.0</td>\n",
              "      <td>49500.0</td>\n",
              "      <td>48690.0</td>\n",
              "      <td>49050.0</td>\n",
              "      <td>710600</td>\n",
              "    </tr>\n",
              "    <tr>\n",
              "      <th>2024-11-12 00:00:00+00:00</th>\n",
              "      <td>49880.000000</td>\n",
              "      <td>49880.0</td>\n",
              "      <td>50540.0</td>\n",
              "      <td>49310.0</td>\n",
              "      <td>50180.0</td>\n",
              "      <td>1211800</td>\n",
              "    </tr>\n",
              "    <tr>\n",
              "      <th>2024-11-13 00:00:00+00:00</th>\n",
              "      <td>48900.000000</td>\n",
              "      <td>48900.0</td>\n",
              "      <td>49600.0</td>\n",
              "      <td>48660.0</td>\n",
              "      <td>49530.0</td>\n",
              "      <td>983100</td>\n",
              "    </tr>\n",
              "  </tbody>\n",
              "</table>\n",
              "<p>122 rows × 6 columns</p>\n",
              "</div>\n",
              "    <div class=\"colab-df-buttons\">\n",
              "\n",
              "  <div class=\"colab-df-container\">\n",
              "    <button class=\"colab-df-convert\" onclick=\"convertToInteractive('df-d72dedf3-6a4e-4620-b11d-5bb41de8c990')\"\n",
              "            title=\"Convert this dataframe to an interactive table.\"\n",
              "            style=\"display:none;\">\n",
              "\n",
              "  <svg xmlns=\"http://www.w3.org/2000/svg\" height=\"24px\" viewBox=\"0 -960 960 960\">\n",
              "    <path d=\"M120-120v-720h720v720H120Zm60-500h600v-160H180v160Zm220 220h160v-160H400v160Zm0 220h160v-160H400v160ZM180-400h160v-160H180v160Zm440 0h160v-160H620v160ZM180-180h160v-160H180v160Zm440 0h160v-160H620v160Z\"/>\n",
              "  </svg>\n",
              "    </button>\n",
              "\n",
              "  <style>\n",
              "    .colab-df-container {\n",
              "      display:flex;\n",
              "      gap: 12px;\n",
              "    }\n",
              "\n",
              "    .colab-df-convert {\n",
              "      background-color: #E8F0FE;\n",
              "      border: none;\n",
              "      border-radius: 50%;\n",
              "      cursor: pointer;\n",
              "      display: none;\n",
              "      fill: #1967D2;\n",
              "      height: 32px;\n",
              "      padding: 0 0 0 0;\n",
              "      width: 32px;\n",
              "    }\n",
              "\n",
              "    .colab-df-convert:hover {\n",
              "      background-color: #E2EBFA;\n",
              "      box-shadow: 0px 1px 2px rgba(60, 64, 67, 0.3), 0px 1px 3px 1px rgba(60, 64, 67, 0.15);\n",
              "      fill: #174EA6;\n",
              "    }\n",
              "\n",
              "    .colab-df-buttons div {\n",
              "      margin-bottom: 4px;\n",
              "    }\n",
              "\n",
              "    [theme=dark] .colab-df-convert {\n",
              "      background-color: #3B4455;\n",
              "      fill: #D2E3FC;\n",
              "    }\n",
              "\n",
              "    [theme=dark] .colab-df-convert:hover {\n",
              "      background-color: #434B5C;\n",
              "      box-shadow: 0px 1px 3px 1px rgba(0, 0, 0, 0.15);\n",
              "      filter: drop-shadow(0px 1px 2px rgba(0, 0, 0, 0.3));\n",
              "      fill: #FFFFFF;\n",
              "    }\n",
              "  </style>\n",
              "\n",
              "    <script>\n",
              "      const buttonEl =\n",
              "        document.querySelector('#df-d72dedf3-6a4e-4620-b11d-5bb41de8c990 button.colab-df-convert');\n",
              "      buttonEl.style.display =\n",
              "        google.colab.kernel.accessAllowed ? 'block' : 'none';\n",
              "\n",
              "      async function convertToInteractive(key) {\n",
              "        const element = document.querySelector('#df-d72dedf3-6a4e-4620-b11d-5bb41de8c990');\n",
              "        const dataTable =\n",
              "          await google.colab.kernel.invokeFunction('convertToInteractive',\n",
              "                                                    [key], {});\n",
              "        if (!dataTable) return;\n",
              "\n",
              "        const docLinkHtml = 'Like what you see? Visit the ' +\n",
              "          '<a target=\"_blank\" href=https://colab.research.google.com/notebooks/data_table.ipynb>data table notebook</a>'\n",
              "          + ' to learn more about interactive tables.';\n",
              "        element.innerHTML = '';\n",
              "        dataTable['output_type'] = 'display_data';\n",
              "        await google.colab.output.renderOutput(dataTable, element);\n",
              "        const docLink = document.createElement('div');\n",
              "        docLink.innerHTML = docLinkHtml;\n",
              "        element.appendChild(docLink);\n",
              "      }\n",
              "    </script>\n",
              "  </div>\n",
              "\n",
              "\n",
              "<div id=\"df-0a0bf524-64da-490e-b7de-02c005fc52c8\">\n",
              "  <button class=\"colab-df-quickchart\" onclick=\"quickchart('df-0a0bf524-64da-490e-b7de-02c005fc52c8')\"\n",
              "            title=\"Suggest charts\"\n",
              "            style=\"display:none;\">\n",
              "\n",
              "<svg xmlns=\"http://www.w3.org/2000/svg\" height=\"24px\"viewBox=\"0 0 24 24\"\n",
              "     width=\"24px\">\n",
              "    <g>\n",
              "        <path d=\"M19 3H5c-1.1 0-2 .9-2 2v14c0 1.1.9 2 2 2h14c1.1 0 2-.9 2-2V5c0-1.1-.9-2-2-2zM9 17H7v-7h2v7zm4 0h-2V7h2v10zm4 0h-2v-4h2v4z\"/>\n",
              "    </g>\n",
              "</svg>\n",
              "  </button>\n",
              "\n",
              "<style>\n",
              "  .colab-df-quickchart {\n",
              "      --bg-color: #E8F0FE;\n",
              "      --fill-color: #1967D2;\n",
              "      --hover-bg-color: #E2EBFA;\n",
              "      --hover-fill-color: #174EA6;\n",
              "      --disabled-fill-color: #AAA;\n",
              "      --disabled-bg-color: #DDD;\n",
              "  }\n",
              "\n",
              "  [theme=dark] .colab-df-quickchart {\n",
              "      --bg-color: #3B4455;\n",
              "      --fill-color: #D2E3FC;\n",
              "      --hover-bg-color: #434B5C;\n",
              "      --hover-fill-color: #FFFFFF;\n",
              "      --disabled-bg-color: #3B4455;\n",
              "      --disabled-fill-color: #666;\n",
              "  }\n",
              "\n",
              "  .colab-df-quickchart {\n",
              "    background-color: var(--bg-color);\n",
              "    border: none;\n",
              "    border-radius: 50%;\n",
              "    cursor: pointer;\n",
              "    display: none;\n",
              "    fill: var(--fill-color);\n",
              "    height: 32px;\n",
              "    padding: 0;\n",
              "    width: 32px;\n",
              "  }\n",
              "\n",
              "  .colab-df-quickchart:hover {\n",
              "    background-color: var(--hover-bg-color);\n",
              "    box-shadow: 0 1px 2px rgba(60, 64, 67, 0.3), 0 1px 3px 1px rgba(60, 64, 67, 0.15);\n",
              "    fill: var(--button-hover-fill-color);\n",
              "  }\n",
              "\n",
              "  .colab-df-quickchart-complete:disabled,\n",
              "  .colab-df-quickchart-complete:disabled:hover {\n",
              "    background-color: var(--disabled-bg-color);\n",
              "    fill: var(--disabled-fill-color);\n",
              "    box-shadow: none;\n",
              "  }\n",
              "\n",
              "  .colab-df-spinner {\n",
              "    border: 2px solid var(--fill-color);\n",
              "    border-color: transparent;\n",
              "    border-bottom-color: var(--fill-color);\n",
              "    animation:\n",
              "      spin 1s steps(1) infinite;\n",
              "  }\n",
              "\n",
              "  @keyframes spin {\n",
              "    0% {\n",
              "      border-color: transparent;\n",
              "      border-bottom-color: var(--fill-color);\n",
              "      border-left-color: var(--fill-color);\n",
              "    }\n",
              "    20% {\n",
              "      border-color: transparent;\n",
              "      border-left-color: var(--fill-color);\n",
              "      border-top-color: var(--fill-color);\n",
              "    }\n",
              "    30% {\n",
              "      border-color: transparent;\n",
              "      border-left-color: var(--fill-color);\n",
              "      border-top-color: var(--fill-color);\n",
              "      border-right-color: var(--fill-color);\n",
              "    }\n",
              "    40% {\n",
              "      border-color: transparent;\n",
              "      border-right-color: var(--fill-color);\n",
              "      border-top-color: var(--fill-color);\n",
              "    }\n",
              "    60% {\n",
              "      border-color: transparent;\n",
              "      border-right-color: var(--fill-color);\n",
              "    }\n",
              "    80% {\n",
              "      border-color: transparent;\n",
              "      border-right-color: var(--fill-color);\n",
              "      border-bottom-color: var(--fill-color);\n",
              "    }\n",
              "    90% {\n",
              "      border-color: transparent;\n",
              "      border-bottom-color: var(--fill-color);\n",
              "    }\n",
              "  }\n",
              "</style>\n",
              "\n",
              "  <script>\n",
              "    async function quickchart(key) {\n",
              "      const quickchartButtonEl =\n",
              "        document.querySelector('#' + key + ' button');\n",
              "      quickchartButtonEl.disabled = true;  // To prevent multiple clicks.\n",
              "      quickchartButtonEl.classList.add('colab-df-spinner');\n",
              "      try {\n",
              "        const charts = await google.colab.kernel.invokeFunction(\n",
              "            'suggestCharts', [key], {});\n",
              "      } catch (error) {\n",
              "        console.error('Error during call to suggestCharts:', error);\n",
              "      }\n",
              "      quickchartButtonEl.classList.remove('colab-df-spinner');\n",
              "      quickchartButtonEl.classList.add('colab-df-quickchart-complete');\n",
              "    }\n",
              "    (() => {\n",
              "      let quickchartButtonEl =\n",
              "        document.querySelector('#df-0a0bf524-64da-490e-b7de-02c005fc52c8 button');\n",
              "      quickchartButtonEl.style.display =\n",
              "        google.colab.kernel.accessAllowed ? 'block' : 'none';\n",
              "    })();\n",
              "  </script>\n",
              "</div>\n",
              "\n",
              "  <div id=\"id_3c55004d-1d8e-4c4c-9750-e0fdb602b970\">\n",
              "    <style>\n",
              "      .colab-df-generate {\n",
              "        background-color: #E8F0FE;\n",
              "        border: none;\n",
              "        border-radius: 50%;\n",
              "        cursor: pointer;\n",
              "        display: none;\n",
              "        fill: #1967D2;\n",
              "        height: 32px;\n",
              "        padding: 0 0 0 0;\n",
              "        width: 32px;\n",
              "      }\n",
              "\n",
              "      .colab-df-generate:hover {\n",
              "        background-color: #E2EBFA;\n",
              "        box-shadow: 0px 1px 2px rgba(60, 64, 67, 0.3), 0px 1px 3px 1px rgba(60, 64, 67, 0.15);\n",
              "        fill: #174EA6;\n",
              "      }\n",
              "\n",
              "      [theme=dark] .colab-df-generate {\n",
              "        background-color: #3B4455;\n",
              "        fill: #D2E3FC;\n",
              "      }\n",
              "\n",
              "      [theme=dark] .colab-df-generate:hover {\n",
              "        background-color: #434B5C;\n",
              "        box-shadow: 0px 1px 3px 1px rgba(0, 0, 0, 0.15);\n",
              "        filter: drop-shadow(0px 1px 2px rgba(0, 0, 0, 0.3));\n",
              "        fill: #FFFFFF;\n",
              "      }\n",
              "    </style>\n",
              "    <button class=\"colab-df-generate\" onclick=\"generateWithVariable('df')\"\n",
              "            title=\"Generate code using this dataframe.\"\n",
              "            style=\"display:none;\">\n",
              "\n",
              "  <svg xmlns=\"http://www.w3.org/2000/svg\" height=\"24px\"viewBox=\"0 0 24 24\"\n",
              "       width=\"24px\">\n",
              "    <path d=\"M7,19H8.4L18.45,9,17,7.55,7,17.6ZM5,21V16.75L18.45,3.32a2,2,0,0,1,2.83,0l1.4,1.43a1.91,1.91,0,0,1,.58,1.4,1.91,1.91,0,0,1-.58,1.4L9.25,21ZM18.45,9,17,7.55Zm-12,3A5.31,5.31,0,0,0,4.9,8.1,5.31,5.31,0,0,0,1,6.5,5.31,5.31,0,0,0,4.9,4.9,5.31,5.31,0,0,0,6.5,1,5.31,5.31,0,0,0,8.1,4.9,5.31,5.31,0,0,0,12,6.5,5.46,5.46,0,0,0,6.5,12Z\"/>\n",
              "  </svg>\n",
              "    </button>\n",
              "    <script>\n",
              "      (() => {\n",
              "      const buttonEl =\n",
              "        document.querySelector('#id_3c55004d-1d8e-4c4c-9750-e0fdb602b970 button.colab-df-generate');\n",
              "      buttonEl.style.display =\n",
              "        google.colab.kernel.accessAllowed ? 'block' : 'none';\n",
              "\n",
              "      buttonEl.onclick = () => {\n",
              "        google.colab.notebook.generateWithVariable('df');\n",
              "      }\n",
              "      })();\n",
              "    </script>\n",
              "  </div>\n",
              "\n",
              "    </div>\n",
              "  </div>\n"
            ],
            "application/vnd.google.colaboratory.intrinsic+json": {
              "type": "dataframe",
              "variable_name": "df",
              "repr_error": "cannot insert Date, already exists"
            }
          },
          "metadata": {},
          "execution_count": 5
        }
      ]
    },
    {
      "cell_type": "markdown",
      "source": [
        "mplfinanceを使って株価をローソクチャートで表示します。"
      ],
      "metadata": {
        "id": "uCHl4gvzFd-k"
      }
    },
    {
      "cell_type": "code",
      "source": [
        "mpf.plot(\n",
        "    df, # 表示対象\n",
        "    type='candle', # ローソク足\"candle\"を設定\n",
        "    volume=True, #出来高のグラフ表示指定 デフォルトは\"False\"\n",
        "    show_nontrading=False, # データがない日付を表示するかどうかを指定 デフォルトは\"False\"\n",
        "    #mav=(5, 30), # 移動平均線のプロット\n",
        "    # チャート全体のスタイル設定\n",
        "\n",
        "    style = mpf.make_mpf_style(\n",
        "        marketcolors=mpf.make_marketcolors(\n",
        "            up='#FF0000', # 陽線の塗りつぶし色\n",
        "            down='#0000FF', # 陰線の塗りつぶし色\n",
        "            edge='lightgray', # ローソクの枠線の色\n",
        "            wick={ # ヒゲの色を指定\n",
        "                'up':'#FF0000', # 陽線の下ヒゲの色\n",
        "                'down':'#0000FF' # 陰線の下ヒゲの色\n",
        "            }\n",
        "        ),\n",
        "\n",
        "        facecolor='white', # 背景色\n",
        "        edgecolor='black', # 外枠色\n",
        "        figcolor='white', # 外側の色\n",
        "        gridcolor='lightgray', # グリッド色\n",
        "        gridstyle='-', # グリッドの種類 \"--\":実線, \"--\":破線, \":\":点線, \"-.\":破線と点線の組み合わせ\n",
        "        gridaxis='both', # グリッドの有無の指定 both:縦横両方, horizontal:横のみ, vertical:縦のみ\n",
        "        y_on_right=False, # y軸を右表示の指定\n",
        "        rc = {\n",
        "          'xtick.color': 'black', # X軸の色\n",
        "          'xtick.labelsize': 8, # X軸の文字サイズ\n",
        "          'ytick.color': 'black', # Y軸の色\n",
        "          'ytick.labelsize': 8, # Y軸の文字サイズ\n",
        "          'axes.labelsize': 10, # 軸ラベルの文字サイズ\n",
        "          'axes.labelcolor': 'black', # 軸ラベルの色\n",
        "          'font.family': 'IPAexGothic', # タイトル,ラベルのフォントを指定\n",
        "      }\n",
        "    ),\n",
        "\n",
        "    # チャートのサイズの設定\n",
        "    figratio=(20, 10), # 図のサイズ指定（縦横比）\n",
        "    tight_layout=False, # 図の余白を狭する⇒True\n",
        "\n",
        "    # 軸の設定\n",
        "    datetime_format='%Y/%m/%d', # X軸の日付の表示書式を指定\n",
        "    # xlim=('2021-01-01', '2021-02-01'), # X軸の日付の範囲をタプルで指定 指定無しならデータフレームを元に自動設定\n",
        "    # ylim=(0, 300), # Y軸の範囲をタプルで指定 指定無しなら自動設定\n",
        "    xrotation=45, # X軸の日付ラベルの回転角度を指定 デフォルトは45度\n",
        "    axisoff=False, # 軸を表示するかどうかを指定 デフォルトは\"False\"\n",
        "\n",
        "\n",
        "    # ラベルの設定\n",
        "    title='9983.T', # チャートのタイトル\n",
        "    ylabel='Price', # チャートのY軸ラベル\n",
        "    ylabel_lower='Volume', # ボリュームを表示する場合は、ボリュームのグラフのY軸ラベル\n",
        ")"
      ],
      "metadata": {
        "colab": {
          "base_uri": "https://localhost:8080/",
          "height": 570
        },
        "id": "eyJRodu5DPlh",
        "outputId": "a3510179-4462-47b5-af9c-485229456551"
      },
      "execution_count": 11,
      "outputs": [
        {
          "output_type": "display_data",
          "data": {
            "text/plain": [
              "<Figure size 1150x575 with 4 Axes>"
            ],
            "image/png": "[encoded data removed]"
          },
          "metadata": {}
        }
      ]
    },
    {
      "cell_type": "markdown",
      "source": [
        "移動平均線を表示するには，キーワード引数mavに移動平均区間の日数をタプル（リストでも可）を渡すことで表示されます。"
      ],
      "metadata": {
        "id": "5NJRedCqsXoT"
      }
    },
    {
      "cell_type": "code",
      "source": [
        "mpf.plot(\n",
        "    df, # 表示対象\n",
        "    type='candle', # ローソク足\"candle\"を設定\n",
        "    volume=True, #出来高のグラフ表示指定 デフォルトは\"False\"\n",
        "    show_nontrading=False, # データがない日付を表示するかどうかを指定 デフォルトは\"False\"\n",
        "    mav=(5, 30), # 移動平均線のプロット\n",
        "    # チャート全体のスタイル設定\n",
        "\n",
        "    style = mpf.make_mpf_style(\n",
        "        marketcolors=mpf.make_marketcolors(\n",
        "            up='#FF0000', # 陽線の塗りつぶし色\n",
        "            down='#0000FF', # 陰線の塗りつぶし色\n",
        "            edge='lightgray', # ローソクの枠線の色\n",
        "            wick={ # ヒゲの色を指定\n",
        "                'up':'#FF0000', # 陽線の下ヒゲの色\n",
        "                'down':'#0000FF' # 陰線の下ヒゲの色\n",
        "            }\n",
        "        ),\n",
        "\n",
        "        facecolor='white', # 背景色\n",
        "        edgecolor='black', # 外枠色\n",
        "        figcolor='white', # 外側の色\n",
        "        gridcolor='lightgray', # グリッド色\n",
        "        gridstyle='-', # グリッドの種類 \"--\":実線, \"--\":破線, \":\":点線, \"-.\":破線と点線の組み合わせ\n",
        "        gridaxis='both', # グリッドの有無の指定 both:縦横両方, horizontal:横のみ, vertical:縦のみ\n",
        "        y_on_right=False, # y軸を右表示の指定\n",
        "        rc = {\n",
        "          'xtick.color': 'black', # X軸の色\n",
        "          'xtick.labelsize': 8, # X軸の文字サイズ\n",
        "          'ytick.color': 'black', # Y軸の色\n",
        "          'ytick.labelsize': 8, # Y軸の文字サイズ\n",
        "          'axes.labelsize': 10, # 軸ラベルの文字サイズ\n",
        "          'axes.labelcolor': 'black', # 軸ラベルの色\n",
        "          'font.family': 'IPAexGothic', # タイトル,ラベルのフォントを指定\n",
        "      }\n",
        "    ),\n",
        "\n",
        "    # チャートのサイズの設定\n",
        "    figratio=(20, 10), # 図のサイズ指定（縦横比）\n",
        "    tight_layout=False, # 図の余白を狭する⇒True\n",
        "\n",
        "    # 軸の設定\n",
        "    datetime_format='%Y/%m/%d', # X軸の日付の表示書式を指定\n",
        "    # xlim=('2021-01-01', '2021-02-01'), # X軸の日付の範囲をタプルで指定 指定無しならデータフレームを元に自動設定\n",
        "    # ylim=(0, 300), # Y軸の範囲をタプルで指定 指定無しなら自動設定\n",
        "    xrotation=45, # X軸の日付ラベルの回転角度を指定 デフォルトは45度\n",
        "    axisoff=False, # 軸を表示するかどうかを指定 デフォルトは\"False\"\n",
        "\n",
        "\n",
        "    # ラベルの設定\n",
        "    title='9983.T', # チャートのタイトル\n",
        "    ylabel='Price', # チャートのY軸ラベル\n",
        "    ylabel_lower='Volume', # ボリュームを表示する場合は、ボリュームのグラフのY軸ラベル\n",
        ")"
      ],
      "metadata": {
        "colab": {
          "base_uri": "https://localhost:8080/",
          "height": 570
        },
        "outputId": "7d6aa948-c704-4178-9216-4af77303e651",
        "id": "TAesIsuhsTjb"
      },
      "execution_count": 12,
      "outputs": [
        {
          "output_type": "display_data",
          "data": {
            "text/plain": [
              "<Figure size 1150x575 with 4 Axes>"
            ],
            "image/png": "[encoded data removed]"
          },
          "metadata": {}
        }
      ]
    }
  ]
}